{
 "cells": [
  {
   "cell_type": "markdown",
   "id": "ordinary-gilbert",
   "metadata": {},
   "source": [
    "# malaria prediction by cell images"
   ]
  },
  {
   "cell_type": "markdown",
   "id": "ranging-doctor",
   "metadata": {},
   "source": [
    "#### Import necessary libery of task"
   ]
  },
  {
   "cell_type": "code",
   "execution_count": 22,
   "id": "indie-russian",
   "metadata": {},
   "outputs": [],
   "source": [
    "import numpy as np\n",
    "import os\n",
    "import tensorflow\n",
    "from tqdm import tqdm\n",
    "import cv2\n",
    "from random import shuffle\n",
    "import matplotlib.pyplot as plt\n",
    "from tensorflow.keras.preprocessing.image import ImageDataGenerator\n",
    "import tensorflow as tf"
   ]
  },
  {
   "cell_type": "markdown",
   "id": "herbal-interview",
   "metadata": {},
   "source": [
    "# Load and Preprocess Data\n"
   ]
  },
  {
   "cell_type": "code",
   "execution_count": 23,
   "id": "statistical-lending",
   "metadata": {},
   "outputs": [],
   "source": [
    "path='/media/omkar/DATA/machine learning progrom/dataset/malaria-dataset-processed' #giveing a folder path"
   ]
  },
  {
   "cell_type": "code",
   "execution_count": 3,
   "id": "foreign-relation",
   "metadata": {},
   "outputs": [],
   "source": [
    "train_path=path+\"/cell_images/train\" #training images path\n",
    "vaild_path=path+\"/cell_images/valid\" #testing images path"
   ]
  },
  {
   "cell_type": "markdown",
   "id": "engaged-contact",
   "metadata": {},
   "source": [
    "### image argumentation"
   ]
  },
  {
   "cell_type": "code",
   "execution_count": 4,
   "id": "martial-kenya",
   "metadata": {},
   "outputs": [],
   "source": [
    "train_datagen=ImageDataGenerator(rescale=1./255, \n",
    "                                shear_range=0.2,\n",
    "                                zoom_range=0.2) # creating image generator for training data first scaledwon image to 0-1\n",
    "test_datagen=ImageDataGenerator(rescale=1./255) # creating image generator for test data"
   ]
  },
  {
   "cell_type": "code",
   "execution_count": 24,
   "id": "lucky-antarctica",
   "metadata": {},
   "outputs": [],
   "source": [
    "#Next,normalize the images by dividing them by 255.0 so as to make the pixels fall in the range (0, 1). \n",
    "#You also reshape the data into 100,100, and batch of 32"
   ]
  },
  {
   "cell_type": "code",
   "execution_count": 5,
   "id": "baking-share",
   "metadata": {},
   "outputs": [
    {
     "name": "stdout",
     "output_type": "stream",
     "text": [
      "Found 22046 images belonging to 2 classes.\n"
     ]
    }
   ],
   "source": [
    "train_data=train_datagen.flow_from_directory(train_path,\n",
    "                                            target_size=(100,100),\n",
    "                                            batch_size=32,\n",
    "                                            class_mode='binary') "
   ]
  },
  {
   "cell_type": "code",
   "execution_count": 6,
   "id": "equivalent-proposition",
   "metadata": {},
   "outputs": [
    {
     "name": "stdout",
     "output_type": "stream",
     "text": [
      "Found 5512 images belonging to 2 classes.\n"
     ]
    }
   ],
   "source": [
    "test_data = test_datagen.flow_from_directory(vaild_path,\n",
    "                                            target_size=(100,100),\n",
    "                                             batch_size=32,\n",
    "                                             class_mode='categorical')"
   ]
  },
  {
   "cell_type": "markdown",
   "id": "fundamental-prisoner",
   "metadata": {},
   "source": [
    "# Create the Custom network "
   ]
  },
  {
   "cell_type": "code",
   "execution_count": 7,
   "id": "exact-morning",
   "metadata": {},
   "outputs": [],
   "source": [
    "class model(tf.keras.Model):\n",
    "    def __init__(self,num_classes):\n",
    "        super(model,self).__init__(name='')\n",
    "        self.con1=tf.keras.layers.Conv2D(32,3,padding='same',activation='relu',input_shape=(100,100,3))\n",
    "        self.mxp1=tf.keras.layers.MaxPool2D(3)\n",
    "        \n",
    "        self.con2=tf.keras.layers.Conv2D(64,3,padding='same',activation='relu')\n",
    "        self.mxp2=tf.keras.layers.MaxPool2D(3)\n",
    "        self.drop1=tf.keras.layers.Dropout(.25)\n",
    "        self.con3=tf.keras.layers.Conv2D(128,3,padding='same',activation='relu')\n",
    "        self.mxp3=tf.keras.layers.MaxPool2D(3)\n",
    "        self.flt=tf.keras.layers.Flatten()\n",
    "        self.Dens1=tf.keras.layers.Dense(512,activation='relu')\n",
    "        self.Dens2=tf.keras.layers.Dense(512,activation='relu')\n",
    "        self.classifier=tf.keras.layers.Dense(num_classes,activation='sigmoid')\n",
    "    def call(self,inputs):\n",
    "        x=self.con1(inputs)\n",
    "        x=self.mxp1(x)\n",
    "        x=self.con2(x)\n",
    "        x=self.mxp2(x)\n",
    "        x=self.drop1(x)\n",
    "        x=self.con3(x)\n",
    "        x=self.mxp3(x)\n",
    "        x=self.flt(x)\n",
    "        x=self.Dens1(x)\n",
    "        x=self.Dens2(x)\n",
    "        return self.classifier(x)\n",
    "        "
   ]
  },
  {
   "cell_type": "markdown",
   "id": "simple-vocabulary",
   "metadata": {},
   "source": [
    "### initialize network with the number of classes "
   ]
  },
  {
   "cell_type": "code",
   "execution_count": 8,
   "id": "english-spanish",
   "metadata": {},
   "outputs": [],
   "source": [
    "classifier=model(1)"
   ]
  },
  {
   "cell_type": "code",
   "execution_count": 9,
   "id": "joined-brave",
   "metadata": {},
   "outputs": [],
   "source": [
    "#classifier.compile(optimizer='adam',loss='binary_crossentropy',metrics=['accuracy'])"
   ]
  },
  {
   "cell_type": "code",
   "execution_count": 10,
   "id": "handmade-typing",
   "metadata": {},
   "outputs": [],
   "source": [
    "#history=classifier.fit_generator(train_data,epochs=30,validation_data=test_data)"
   ]
  },
  {
   "cell_type": "code",
   "execution_count": 11,
   "id": "motivated-march",
   "metadata": {},
   "outputs": [],
   "source": [
    "#y_pre=classifier.predict_generator(test_data)"
   ]
  },
  {
   "cell_type": "markdown",
   "id": "recovered-timer",
   "metadata": {},
   "source": [
    "### define optimizer and loss"
   ]
  },
  {
   "cell_type": "code",
   "execution_count": 12,
   "id": "understanding-moisture",
   "metadata": {},
   "outputs": [],
   "source": [
    "optimizer=tf.keras.optimizers.Adam()\n",
    "loss_object=tf.keras.losses.BinaryCrossentropy()"
   ]
  },
  {
   "cell_type": "markdown",
   "id": "supported-reading",
   "metadata": {},
   "source": [
    "### define accuracy metrices"
   ]
  },
  {
   "cell_type": "code",
   "execution_count": 13,
   "id": "civilian-nursing",
   "metadata": {},
   "outputs": [],
   "source": [
    "train_acc_metric=tf.keras.metrics.BinaryAccuracy()\n",
    "test_acc_metric=tf.keras.metrics.BinaryAccuracy()"
   ]
  },
  {
   "cell_type": "markdown",
   "id": "framed-wonder",
   "metadata": {},
   "source": [
    "# Building Training Loop"
   ]
  },
  {
   "cell_type": "markdown",
   "id": "fabulous-elite",
   "metadata": {},
   "source": [
    "## gradient tape to calculate the gradients and then update the model trainable weights using the optimizer."
   ]
  },
  {
   "cell_type": "code",
   "execution_count": 14,
   "id": "molecular-smooth",
   "metadata": {},
   "outputs": [],
   "source": [
    "def apply_gradient(optimizer,classifier,x,y):\n",
    "    with tf.GradientTape() as tape:\n",
    "        logits=classifier(x) # predict logits\n",
    "        loss_value=loss_object(y_true=y,y_pred=logits) #compute loss\n",
    "    gradients=tape.gradient(loss_value,classifier.trainable_weights) #  derivatives \n",
    "    optimizer.apply_gradients(zip(gradients,classifier.trainable_weights)) \n",
    "    return logits,loss_value"
   ]
  },
  {
   "cell_type": "markdown",
   "id": "reasonable-relaxation",
   "metadata": {},
   "source": [
    "This function performs training during one epoch. You run through all batches of training data in each epoch to make updates to trainable weights using your previous function. You can see that we also call update_state on your metrics to accumulate the value of your metrics. You are displaying a progress bar to indicate completion of training in each epoch. Here you use tqdm for displaying the progress bar."
   ]
  },
  {
   "cell_type": "code",
   "execution_count": 18,
   "id": "helpful-mirror",
   "metadata": {},
   "outputs": [],
   "source": [
    "def train_data_for_one_epoch():\n",
    "    losses = []\n",
    "    bateches=0\n",
    "    #print('hello')\n",
    "    #pbar=tqdm(total=len(list(enumerate(train_data))),position=0,leave=True,bar_format='{l_bar}{bar}| {n_fmt}/{total_fmt} ')\n",
    "    for step,(x_batch_train,y_batch_train) in enumerate(train_data):\n",
    "        #print('step',step)\n",
    "        logits, loss_value=apply_gradient(optimizer,classifier,x_batch_train,y_batch_train)\n",
    "        losses.append(loss_value)\n",
    "        train_acc_metric(y_batch_train,logits)\n",
    "        bateches+=1\n",
    "        if bateches >= (22046)/32:\n",
    "            break\n",
    "        #print(step,loss_value)\n",
    "    return losses"
   ]
  },
  {
   "cell_type": "markdown",
   "id": "familiar-struggle",
   "metadata": {},
   "source": [
    "At the end of each epoch you have to validate the model on the test dataset. The following function calculates the loss on test dataset and updates the states of the validation metrics."
   ]
  },
  {
   "cell_type": "code",
   "execution_count": 19,
   "id": "australian-inspection",
   "metadata": {},
   "outputs": [],
   "source": [
    "def perform_validation():\n",
    "    losses=[]\n",
    "    bateches=0\n",
    "    for x_val,y_val in test_data:\n",
    "        val_logits = classifier(x_val)\n",
    "        val_loss = loss_object(y_true=y_val,y_pred=val_logits)\n",
    "        losses.append(val_loss)\n",
    "        test_acc_metric(y_val,val_logits)\n",
    "        bateches+=1\n",
    "        if bateches >= (5512)/32:\n",
    "            break\n",
    "    return losses"
   ]
  },
  {
   "cell_type": "markdown",
   "id": "extensive-trademark",
   "metadata": {},
   "source": [
    "Next you define the training loop that runs through the training samples repeatedly over a fixed number of epochs. Here you combine the functions you built earlier to establish the following flow:\n",
    "\n",
    "1.Perform training over all batches of training data.\n",
    "2.Get values of metrics.\n",
    "3.Perform validation to calculate loss and update validation metrics on test data.\n",
    "4.Reset the metrics at the end of epoch.\n",
    "5.Display statistics at the end of each epoch."
   ]
  },
  {
   "cell_type": "code",
   "execution_count": 20,
   "id": "endangered-jimmy",
   "metadata": {
    "scrolled": false
   },
   "outputs": [
    {
     "name": "stdout",
     "output_type": "stream",
     "text": [
      "Start of epoch 0\n",
      "\n",
      " Epoch 0: Train loss: 0.3927  Validation Loss: 0.1728, Train Accuracy: 0.7857, Validation Accuracy 0.9380\n",
      "Start of epoch 1\n",
      "\n",
      " Epoch 1: Train loss: 0.1967  Validation Loss: 0.1707, Train Accuracy: 0.9286, Validation Accuracy 0.9437\n",
      "Start of epoch 2\n",
      "\n",
      " Epoch 2: Train loss: 0.1796  Validation Loss: 0.1405, Train Accuracy: 0.9348, Validation Accuracy 0.9518\n",
      "Start of epoch 3\n",
      "\n",
      " Epoch 3: Train loss: 0.1729  Validation Loss: 0.1526, Train Accuracy: 0.9385, Validation Accuracy 0.9499\n",
      "Start of epoch 4\n",
      "\n",
      " Epoch 4: Train loss: 0.1617  Validation Loss: 0.1449, Train Accuracy: 0.9424, Validation Accuracy 0.9543\n",
      "Start of epoch 5\n",
      "\n",
      " Epoch 5: Train loss: 0.1586  Validation Loss: 0.1306, Train Accuracy: 0.9435, Validation Accuracy 0.9571\n",
      "Start of epoch 6\n",
      "\n",
      " Epoch 6: Train loss: 0.1558  Validation Loss: 0.1652, Train Accuracy: 0.9445, Validation Accuracy 0.9436\n",
      "Start of epoch 7\n",
      "\n",
      " Epoch 7: Train loss: 0.1540  Validation Loss: 0.1481, Train Accuracy: 0.9447, Validation Accuracy 0.9505\n",
      "Start of epoch 8\n",
      "\n",
      " Epoch 8: Train loss: 0.1500  Validation Loss: 0.1655, Train Accuracy: 0.9456, Validation Accuracy 0.9453\n",
      "Start of epoch 9\n",
      "\n",
      " Epoch 9: Train loss: 0.1457  Validation Loss: 0.1318, Train Accuracy: 0.9480, Validation Accuracy 0.9564\n",
      "Start of epoch 10\n",
      "\n",
      " Epoch 10: Train loss: 0.1388  Validation Loss: 0.1262, Train Accuracy: 0.9503, Validation Accuracy 0.9571\n",
      "Start of epoch 11\n",
      "\n",
      " Epoch 11: Train loss: 0.1403  Validation Loss: 0.1245, Train Accuracy: 0.9506, Validation Accuracy 0.9565\n",
      "Start of epoch 12\n",
      "\n",
      " Epoch 12: Train loss: 0.1360  Validation Loss: 0.1298, Train Accuracy: 0.9498, Validation Accuracy 0.9540\n",
      "Start of epoch 13\n",
      "\n",
      " Epoch 13: Train loss: 0.1301  Validation Loss: 0.1178, Train Accuracy: 0.9523, Validation Accuracy 0.9568\n",
      "Start of epoch 14\n",
      "\n",
      " Epoch 14: Train loss: 0.1259  Validation Loss: 0.1309, Train Accuracy: 0.9533, Validation Accuracy 0.9574\n",
      "Start of epoch 15\n",
      "\n",
      " Epoch 15: Train loss: 0.1219  Validation Loss: 0.1259, Train Accuracy: 0.9554, Validation Accuracy 0.9567\n",
      "Start of epoch 16\n",
      "\n",
      " Epoch 16: Train loss: 0.1225  Validation Loss: 0.1212, Train Accuracy: 0.9549, Validation Accuracy 0.9594\n",
      "Start of epoch 17\n",
      "\n",
      " Epoch 17: Train loss: 0.1176  Validation Loss: 0.1228, Train Accuracy: 0.9567, Validation Accuracy 0.9567\n",
      "Start of epoch 18\n",
      "\n",
      " Epoch 18: Train loss: 0.1154  Validation Loss: 0.1320, Train Accuracy: 0.9568, Validation Accuracy 0.9584\n",
      "Start of epoch 19\n",
      "\n",
      " Epoch 19: Train loss: 0.1156  Validation Loss: 0.1174, Train Accuracy: 0.9580, Validation Accuracy 0.9595\n",
      "Start of epoch 20\n",
      "\n",
      " Epoch 20: Train loss: 0.1090  Validation Loss: 0.1182, Train Accuracy: 0.9612, Validation Accuracy 0.9613\n",
      "Start of epoch 21\n",
      "\n",
      " Epoch 21: Train loss: 0.1118  Validation Loss: 0.1212, Train Accuracy: 0.9589, Validation Accuracy 0.9604\n",
      "Start of epoch 22\n",
      "\n",
      " Epoch 22: Train loss: 0.1100  Validation Loss: 0.1230, Train Accuracy: 0.9602, Validation Accuracy 0.9602\n",
      "Start of epoch 23\n",
      "\n",
      " Epoch 23: Train loss: 0.1091  Validation Loss: 0.1202, Train Accuracy: 0.9587, Validation Accuracy 0.9585\n",
      "Start of epoch 24\n",
      "\n",
      " Epoch 24: Train loss: 0.1029  Validation Loss: 0.1399, Train Accuracy: 0.9634, Validation Accuracy 0.9596\n",
      "Start of epoch 25\n",
      "\n",
      " Epoch 25: Train loss: 0.1022  Validation Loss: 0.1286, Train Accuracy: 0.9633, Validation Accuracy 0.9583\n",
      "Start of epoch 26\n",
      "\n",
      " Epoch 26: Train loss: 0.1034  Validation Loss: 0.1315, Train Accuracy: 0.9613, Validation Accuracy 0.9601\n",
      "Start of epoch 27\n",
      "\n",
      " Epoch 27: Train loss: 0.0961  Validation Loss: 0.1449, Train Accuracy: 0.9658, Validation Accuracy 0.9562\n",
      "Start of epoch 28\n",
      "\n",
      " Epoch 28: Train loss: 0.0972  Validation Loss: 0.1271, Train Accuracy: 0.9651, Validation Accuracy 0.9577\n",
      "Start of epoch 29\n",
      "\n",
      " Epoch 29: Train loss: 0.0957  Validation Loss: 0.1293, Train Accuracy: 0.9666, Validation Accuracy 0.9602\n",
      "Start of epoch 30\n",
      "\n",
      " Epoch 30: Train loss: 0.0897  Validation Loss: 0.1253, Train Accuracy: 0.9683, Validation Accuracy 0.9599\n",
      "Start of epoch 31\n",
      "\n",
      " Epoch 31: Train loss: 0.0933  Validation Loss: 0.1319, Train Accuracy: 0.9663, Validation Accuracy 0.9587\n",
      "Start of epoch 32\n",
      "\n",
      " Epoch 32: Train loss: 0.0925  Validation Loss: 0.1244, Train Accuracy: 0.9674, Validation Accuracy 0.9575\n",
      "Start of epoch 33\n",
      "\n",
      " Epoch 33: Train loss: 0.0919  Validation Loss: 0.1187, Train Accuracy: 0.9682, Validation Accuracy 0.9616\n",
      "Start of epoch 34\n",
      "\n",
      " Epoch 34: Train loss: 0.0842  Validation Loss: 0.1356, Train Accuracy: 0.9703, Validation Accuracy 0.9589\n",
      "Start of epoch 35\n",
      "\n",
      " Epoch 35: Train loss: 0.0869  Validation Loss: 0.1382, Train Accuracy: 0.9687, Validation Accuracy 0.9592\n",
      "Start of epoch 36\n",
      "\n",
      " Epoch 36: Train loss: 0.0899  Validation Loss: 0.1313, Train Accuracy: 0.9689, Validation Accuracy 0.9570\n",
      "Start of epoch 37\n",
      "\n",
      " Epoch 37: Train loss: 0.0811  Validation Loss: 0.1499, Train Accuracy: 0.9712, Validation Accuracy 0.9578\n",
      "Start of epoch 38\n",
      "\n",
      " Epoch 38: Train loss: 0.0794  Validation Loss: 0.1466, Train Accuracy: 0.9729, Validation Accuracy 0.9605\n",
      "Start of epoch 39\n",
      "\n",
      " Epoch 39: Train loss: 0.0800  Validation Loss: 0.1762, Train Accuracy: 0.9724, Validation Accuracy 0.9558\n",
      "Start of epoch 40\n",
      "\n",
      " Epoch 40: Train loss: 0.0790  Validation Loss: 0.1497, Train Accuracy: 0.9714, Validation Accuracy 0.9619\n",
      "Start of epoch 41\n",
      "\n",
      " Epoch 41: Train loss: 0.0772  Validation Loss: 0.1622, Train Accuracy: 0.9726, Validation Accuracy 0.9575\n",
      "Start of epoch 42\n",
      "\n",
      " Epoch 42: Train loss: 0.0747  Validation Loss: 0.1456, Train Accuracy: 0.9729, Validation Accuracy 0.9593\n",
      "Start of epoch 43\n",
      "\n",
      " Epoch 43: Train loss: 0.0780  Validation Loss: 0.1631, Train Accuracy: 0.9724, Validation Accuracy 0.9574\n",
      "Start of epoch 44\n",
      "\n",
      " Epoch 44: Train loss: 0.0756  Validation Loss: 0.1417, Train Accuracy: 0.9739, Validation Accuracy 0.9585\n",
      "Start of epoch 45\n",
      "\n",
      " Epoch 45: Train loss: 0.0749  Validation Loss: 0.1575, Train Accuracy: 0.9727, Validation Accuracy 0.9570\n",
      "Start of epoch 46\n",
      "\n",
      " Epoch 46: Train loss: 0.0714  Validation Loss: 0.1634, Train Accuracy: 0.9752, Validation Accuracy 0.9617\n",
      "Start of epoch 47\n",
      "\n",
      " Epoch 47: Train loss: 0.0753  Validation Loss: 0.1444, Train Accuracy: 0.9739, Validation Accuracy 0.9563\n",
      "Start of epoch 48\n",
      "\n",
      " Epoch 48: Train loss: 0.0714  Validation Loss: 0.1518, Train Accuracy: 0.9735, Validation Accuracy 0.9510\n",
      "Start of epoch 49\n",
      "\n",
      " Epoch 49: Train loss: 0.0674  Validation Loss: 0.1577, Train Accuracy: 0.9758, Validation Accuracy 0.9556\n",
      "Start of epoch 50\n",
      "\n",
      " Epoch 50: Train loss: 0.0655  Validation Loss: 0.1545, Train Accuracy: 0.9776, Validation Accuracy 0.9587\n",
      "Start of epoch 51\n",
      "\n",
      " Epoch 51: Train loss: 0.0664  Validation Loss: 0.1620, Train Accuracy: 0.9767, Validation Accuracy 0.9579\n",
      "Start of epoch 52\n",
      "\n",
      " Epoch 52: Train loss: 0.0671  Validation Loss: 0.1719, Train Accuracy: 0.9773, Validation Accuracy 0.9513\n",
      "Start of epoch 53\n",
      "\n",
      " Epoch 53: Train loss: 0.0648  Validation Loss: 0.1694, Train Accuracy: 0.9783, Validation Accuracy 0.9556\n",
      "Start of epoch 54\n",
      "\n",
      " Epoch 54: Train loss: 0.0634  Validation Loss: 0.1687, Train Accuracy: 0.9791, Validation Accuracy 0.9584\n",
      "Start of epoch 55\n",
      "\n",
      " Epoch 55: Train loss: 0.0651  Validation Loss: 0.1690, Train Accuracy: 0.9783, Validation Accuracy 0.9549\n",
      "Start of epoch 56\n",
      "\n",
      " Epoch 56: Train loss: 0.0669  Validation Loss: 0.1893, Train Accuracy: 0.9771, Validation Accuracy 0.9576\n",
      "Start of epoch 57\n",
      "\n",
      " Epoch 57: Train loss: 0.0617  Validation Loss: 0.1813, Train Accuracy: 0.9788, Validation Accuracy 0.9575\n",
      "Start of epoch 58\n",
      "\n",
      " Epoch 58: Train loss: 0.0642  Validation Loss: 0.1779, Train Accuracy: 0.9770, Validation Accuracy 0.9597\n",
      "Start of epoch 59\n",
      "\n",
      " Epoch 59: Train loss: 0.0602  Validation Loss: 0.1532, Train Accuracy: 0.9799, Validation Accuracy 0.9596\n",
      "Start of epoch 60\n",
      "\n",
      " Epoch 60: Train loss: 0.0588  Validation Loss: 0.1918, Train Accuracy: 0.9791, Validation Accuracy 0.9585\n",
      "Start of epoch 61\n",
      "\n",
      " Epoch 61: Train loss: 0.0568  Validation Loss: 0.1764, Train Accuracy: 0.9809, Validation Accuracy 0.9571\n",
      "Start of epoch 62\n",
      "\n",
      " Epoch 62: Train loss: 0.0561  Validation Loss: 0.2029, Train Accuracy: 0.9812, Validation Accuracy 0.9566\n",
      "Start of epoch 63\n",
      "\n",
      " Epoch 63: Train loss: 0.0594  Validation Loss: 0.1991, Train Accuracy: 0.9795, Validation Accuracy 0.9584\n",
      "Start of epoch 64\n",
      "\n",
      " Epoch 64: Train loss: 0.0592  Validation Loss: 0.1876, Train Accuracy: 0.9795, Validation Accuracy 0.9595\n",
      "Start of epoch 65\n",
      "\n",
      " Epoch 65: Train loss: 0.0550  Validation Loss: 0.1869, Train Accuracy: 0.9806, Validation Accuracy 0.9585\n",
      "Start of epoch 66\n"
     ]
    },
    {
     "name": "stdout",
     "output_type": "stream",
     "text": [
      "\n",
      " Epoch 66: Train loss: 0.0586  Validation Loss: 0.1920, Train Accuracy: 0.9802, Validation Accuracy 0.9546\n",
      "Start of epoch 67\n",
      "\n",
      " Epoch 67: Train loss: 0.0558  Validation Loss: 0.1881, Train Accuracy: 0.9816, Validation Accuracy 0.9614\n",
      "Start of epoch 68\n",
      "\n",
      " Epoch 68: Train loss: 0.0563  Validation Loss: 0.1930, Train Accuracy: 0.9812, Validation Accuracy 0.9585\n",
      "Start of epoch 69\n",
      "\n",
      " Epoch 69: Train loss: 0.0541  Validation Loss: 0.2006, Train Accuracy: 0.9822, Validation Accuracy 0.9569\n",
      "Start of epoch 70\n",
      "\n",
      " Epoch 70: Train loss: 0.0566  Validation Loss: 0.1963, Train Accuracy: 0.9807, Validation Accuracy 0.9525\n",
      "Start of epoch 71\n",
      "\n",
      " Epoch 71: Train loss: 0.0497  Validation Loss: 0.2046, Train Accuracy: 0.9837, Validation Accuracy 0.9567\n",
      "Start of epoch 72\n",
      "\n",
      " Epoch 72: Train loss: 0.0524  Validation Loss: 0.2129, Train Accuracy: 0.9822, Validation Accuracy 0.9560\n",
      "Start of epoch 73\n",
      "\n",
      " Epoch 73: Train loss: 0.0547  Validation Loss: 0.2071, Train Accuracy: 0.9826, Validation Accuracy 0.9571\n",
      "Start of epoch 74\n",
      "\n",
      " Epoch 74: Train loss: 0.0536  Validation Loss: 0.1834, Train Accuracy: 0.9830, Validation Accuracy 0.9570\n",
      "Start of epoch 75\n",
      "\n",
      " Epoch 75: Train loss: 0.0503  Validation Loss: 0.2084, Train Accuracy: 0.9833, Validation Accuracy 0.9550\n",
      "Start of epoch 76\n",
      "\n",
      " Epoch 76: Train loss: 0.0490  Validation Loss: 0.1823, Train Accuracy: 0.9841, Validation Accuracy 0.9607\n",
      "Start of epoch 77\n",
      "\n",
      " Epoch 77: Train loss: 0.0496  Validation Loss: 0.2010, Train Accuracy: 0.9839, Validation Accuracy 0.9552\n",
      "Start of epoch 78\n",
      "\n",
      " Epoch 78: Train loss: 0.0487  Validation Loss: 0.2001, Train Accuracy: 0.9843, Validation Accuracy 0.9575\n",
      "Start of epoch 79\n",
      "\n",
      " Epoch 79: Train loss: 0.0491  Validation Loss: 0.1941, Train Accuracy: 0.9842, Validation Accuracy 0.9539\n",
      "Start of epoch 80\n",
      "\n",
      " Epoch 80: Train loss: 0.0472  Validation Loss: 0.2450, Train Accuracy: 0.9847, Validation Accuracy 0.9569\n",
      "Start of epoch 81\n",
      "\n",
      " Epoch 81: Train loss: 0.0483  Validation Loss: 0.2040, Train Accuracy: 0.9832, Validation Accuracy 0.9592\n",
      "Start of epoch 82\n",
      "\n",
      " Epoch 82: Train loss: 0.0489  Validation Loss: 0.2011, Train Accuracy: 0.9833, Validation Accuracy 0.9585\n",
      "Start of epoch 83\n",
      "\n",
      " Epoch 83: Train loss: 0.0441  Validation Loss: 0.2133, Train Accuracy: 0.9854, Validation Accuracy 0.9583\n",
      "Start of epoch 84\n",
      "\n",
      " Epoch 84: Train loss: 0.0462  Validation Loss: 0.2020, Train Accuracy: 0.9848, Validation Accuracy 0.9555\n",
      "Start of epoch 85\n",
      "\n",
      " Epoch 85: Train loss: 0.0473  Validation Loss: 0.1865, Train Accuracy: 0.9852, Validation Accuracy 0.9547\n",
      "Start of epoch 86\n",
      "\n",
      " Epoch 86: Train loss: 0.0463  Validation Loss: 0.2349, Train Accuracy: 0.9844, Validation Accuracy 0.9549\n",
      "Start of epoch 87\n",
      "\n",
      " Epoch 87: Train loss: 0.0408  Validation Loss: 0.2528, Train Accuracy: 0.9869, Validation Accuracy 0.9554\n",
      "Start of epoch 88\n",
      "\n",
      " Epoch 88: Train loss: 0.0467  Validation Loss: 0.2003, Train Accuracy: 0.9855, Validation Accuracy 0.9544\n",
      "Start of epoch 89\n",
      "\n",
      " Epoch 89: Train loss: 0.0433  Validation Loss: 0.2262, Train Accuracy: 0.9853, Validation Accuracy 0.9555\n",
      "Start of epoch 90\n",
      "\n",
      " Epoch 90: Train loss: 0.0431  Validation Loss: 0.2420, Train Accuracy: 0.9867, Validation Accuracy 0.9557\n",
      "Start of epoch 91\n",
      "\n",
      " Epoch 91: Train loss: 0.0404  Validation Loss: 0.2419, Train Accuracy: 0.9864, Validation Accuracy 0.9533\n",
      "Start of epoch 92\n",
      "\n",
      " Epoch 92: Train loss: 0.0453  Validation Loss: 0.2421, Train Accuracy: 0.9856, Validation Accuracy 0.9517\n",
      "Start of epoch 93\n",
      "\n",
      " Epoch 93: Train loss: 0.0422  Validation Loss: 0.2347, Train Accuracy: 0.9861, Validation Accuracy 0.9566\n",
      "Start of epoch 94\n",
      "\n",
      " Epoch 94: Train loss: 0.0418  Validation Loss: 0.2452, Train Accuracy: 0.9867, Validation Accuracy 0.9555\n",
      "Start of epoch 95\n",
      "\n",
      " Epoch 95: Train loss: 0.0385  Validation Loss: 0.2454, Train Accuracy: 0.9874, Validation Accuracy 0.9546\n",
      "Start of epoch 96\n",
      "\n",
      " Epoch 96: Train loss: 0.0419  Validation Loss: 0.2461, Train Accuracy: 0.9861, Validation Accuracy 0.9560\n",
      "Start of epoch 97\n",
      "\n",
      " Epoch 97: Train loss: 0.0429  Validation Loss: 0.2143, Train Accuracy: 0.9853, Validation Accuracy 0.9567\n",
      "Start of epoch 98\n",
      "\n",
      " Epoch 98: Train loss: 0.0380  Validation Loss: 0.2454, Train Accuracy: 0.9877, Validation Accuracy 0.9575\n",
      "Start of epoch 99\n",
      "\n",
      " Epoch 99: Train loss: 0.0419  Validation Loss: 0.2366, Train Accuracy: 0.9860, Validation Accuracy 0.9530\n",
      "Start of epoch 100\n",
      "\n",
      " Epoch 100: Train loss: 0.0383  Validation Loss: 0.2354, Train Accuracy: 0.9873, Validation Accuracy 0.9539\n"
     ]
    }
   ],
   "source": [
    "epochs = 101\n",
    "epochs_val_losses, epochs_train_losses = [], []\n",
    "for epoch in range(epochs):\n",
    "    print('Start of epoch %d' % (epoch,))\n",
    "  \n",
    "    losses_train = train_data_for_one_epoch()\n",
    "    train_acc = train_acc_metric.result()\n",
    "\n",
    "    losses_val = perform_validation()\n",
    "    val_acc = test_acc_metric.result()\n",
    "\n",
    "    losses_train_mean = np.mean(losses_train)\n",
    "    losses_val_mean = np.mean(losses_val)\n",
    "    epochs_val_losses.append(losses_val_mean)\n",
    "    epochs_train_losses.append(losses_train_mean)\n",
    "\n",
    "    print('\\n Epoch %s: Train loss: %.4f  Validation Loss: %.4f, Train Accuracy: %.4f, Validation Accuracy %.4f' % (epoch, float(losses_train_mean), float(losses_val_mean), float(train_acc), float(val_acc)))\n",
    "  \n",
    "    train_acc_metric.reset_states()\n",
    "    test_acc_metric.reset_states()"
   ]
  },
  {
   "cell_type": "markdown",
   "id": "bizarre-drive",
   "metadata": {},
   "source": [
    "## save model"
   ]
  },
  {
   "cell_type": "code",
   "execution_count": 21,
   "id": "centered-cowboy",
   "metadata": {},
   "outputs": [
    {
     "name": "stdout",
     "output_type": "stream",
     "text": [
      "INFO:tensorflow:Assets written to: mymodel/assets\n"
     ]
    }
   ],
   "source": [
    "classifier.save(\"mymodel\")\n"
   ]
  },
  {
   "cell_type": "code",
   "execution_count": null,
   "id": "brief-trailer",
   "metadata": {},
   "outputs": [],
   "source": []
  }
 ],
 "metadata": {
  "kernelspec": {
   "display_name": "Python 3",
   "language": "python",
   "name": "python3"
  },
  "language_info": {
   "codemirror_mode": {
    "name": "ipython",
    "version": 3
   },
   "file_extension": ".py",
   "mimetype": "text/x-python",
   "name": "python",
   "nbconvert_exporter": "python",
   "pygments_lexer": "ipython3",
   "version": "3.7.9"
  }
 },
 "nbformat": 4,
 "nbformat_minor": 5
}
